{
 "cells": [
  {
   "cell_type": "markdown",
   "id": "322f33b2",
   "metadata": {
    "papermill": {
     "duration": 0.007849,
     "end_time": "2024-03-23T19:43:02.814356",
     "exception": false,
     "start_time": "2024-03-23T19:43:02.806507",
     "status": "completed"
    },
    "tags": []
   },
   "source": [
    "# <p style=\"padding:10px;background-color:#264653 ;margin:0;color:white;font-family:Arial, sans-serif;font-size:100%;text-align:center;border-radius: 15px 50px;overflow:hidden;font-weight:500\">Text Emotion Classifier : BERT&CNN  Duo💼 🗝️</p>"
   ]
  },
  {
   "cell_type": "markdown",
   "id": "439c404c",
   "metadata": {
    "papermill": {
     "duration": 0.007116,
     "end_time": "2024-03-23T19:43:02.829106",
     "exception": false,
     "start_time": "2024-03-23T19:43:02.821990",
     "status": "completed"
    },
    "tags": []
   },
   "source": [
    "<div style=\"background-color:#08A4BD; padding:20px; border-radius:10px; box-shadow: 0 4px 8px 0 rgba(0,0,0,0.2);\">\n",
    "<p style=\"font-family:Arial, sans-serif; font-size:24px; color:#000000; text-align:center;\">🎯 Project Goal</p>\n",
    "\n",
    "<p style=\"font-family:Arial, sans-serif; font-size:16px; line-height:1.5; color:#000000;\">Welcome to our journey of emotion classification! 🌈 Our goal is to train a powerful model that can accurately identify emotions from text data. We'll be fine-tuning a BERT model, and trust me, we have some exciting architectural enhancements up our sleeves to take it to the next level! 💪</p>\n",
    "\n",
    "<p style=\"font-family:Arial, sans-serif; font-size:16px; line-height:1.5; color:#000000;\">For our dataset, we'll be using the incredible Emotions dataset from Kaggle. 📂 This dataset contains two key columns: 'text' and 'label'. The 'label' column represents six different emotion classes: sadness (0), joy (1), love (2), anger (3), fear (4), and surprise (5). Get ready to dive deep into the world of human emotions! 🌊</p>\n",
    "</div>"
   ]
  },
  {
   "cell_type": "markdown",
   "id": "d2cfb725",
   "metadata": {
    "papermill": {
     "duration": 0.006923,
     "end_time": "2024-03-23T19:43:02.843537",
     "exception": false,
     "start_time": "2024-03-23T19:43:02.836614",
     "status": "completed"
    },
    "tags": []
   },
   "source": [
    "<div style=\"background-color:#264653; padding:20px; border-radius:10px; box-shadow: 0 4px 8px 0 rgba(0,0,0,0.2);\">\n",
    "<p style=\"font-family:Arial, sans-serif; font-size:24px; color:white; text-align:center;\">📥 Importing Libraries</p>\n",
    "\n",
    "<p style=\"font-family:Arial, sans-serif; font-size:16px; line-height:1.5; color:white;\">Before we embark on our journey, we need to gather our tools. 🛠️ In this phase, we imported the essential libraries that will power our project:</p>\n",
    "\n",
    "<ul style=\"font-family:Arial, sans-serif; font-size:16px; color:white;\">\n",
    "   <li>PyTorch: The backbone of our deep learning models 🔥</li>\n",
    "   <li>Transformers: Allowing us to harness the power of pre-trained language models like BERT 🌐</li>\n",
    "   <li>And many other useful libraries for data manipulation, visualization, and evaluation 📊</li>\n",
    "</ul>\n",
    "\n",
    "<p style=\"font-family:Arial, sans-serif; font-size:16px; line-height:1.5; color:white;\">With these tools at our disposal, we're ready to embark on our quest for emotion classification! 🚀</p>\n",
    "</div>"
   ]
  },
  {
   "cell_type": "code",
   "execution_count": 1,
   "id": "3a27f38a",
   "metadata": {
    "execution": {
     "iopub.execute_input": "2024-03-23T19:43:02.858717Z",
     "iopub.status.busy": "2024-03-23T19:43:02.858452Z",
     "iopub.status.idle": "2024-03-23T19:43:17.961729Z",
     "shell.execute_reply": "2024-03-23T19:43:17.960772Z"
    },
    "papermill": {
     "duration": 15.113369,
     "end_time": "2024-03-23T19:43:17.963954",
     "exception": false,
     "start_time": "2024-03-23T19:43:02.850585",
     "status": "completed"
    },
    "tags": []
   },
   "outputs": [],
   "source": [
    "from sklearn.metrics import f1_score, precision_score, recall_score\n",
    "import torch\n",
    "import torch.nn as nn\n",
    "import pandas as pd\n",
    "import numpy as np\n",
    "from torch.utils.data import Dataset, DataLoader\n",
    "import torch.nn.functional as F\n",
    "from transformers import AutoTokenizer, AutoModel\n",
    "from sklearn.model_selection import train_test_split\n",
    "import random\n",
    "from sklearn.metrics import f1_score, precision_score, recall_score, confusion_matrix\n",
    "from torch.nn.parallel import DataParallel\n",
    "import matplotlib.pyplot as plt\n"
   ]
  },
  {
   "cell_type": "code",
   "execution_count": 2,
   "id": "a48109c3",
   "metadata": {
    "execution": {
     "iopub.execute_input": "2024-03-23T19:43:17.980453Z",
     "iopub.status.busy": "2024-03-23T19:43:17.979589Z",
     "iopub.status.idle": "2024-03-23T19:43:19.152690Z",
     "shell.execute_reply": "2024-03-23T19:43:19.151810Z"
    },
    "papermill": {
     "duration": 1.183196,
     "end_time": "2024-03-23T19:43:19.154754",
     "exception": false,
     "start_time": "2024-03-23T19:43:17.971558",
     "status": "completed"
    },
    "tags": []
   },
   "outputs": [
    {
     "data": {
      "text/html": [
       "<div>\n",
       "<style scoped>\n",
       "    .dataframe tbody tr th:only-of-type {\n",
       "        vertical-align: middle;\n",
       "    }\n",
       "\n",
       "    .dataframe tbody tr th {\n",
       "        vertical-align: top;\n",
       "    }\n",
       "\n",
       "    .dataframe thead th {\n",
       "        text-align: right;\n",
       "    }\n",
       "</style>\n",
       "<table border=\"1\" class=\"dataframe\">\n",
       "  <thead>\n",
       "    <tr style=\"text-align: right;\">\n",
       "      <th></th>\n",
       "      <th>Unnamed: 0</th>\n",
       "      <th>text</th>\n",
       "      <th>label</th>\n",
       "    </tr>\n",
       "  </thead>\n",
       "  <tbody>\n",
       "    <tr>\n",
       "      <th>0</th>\n",
       "      <td>0</td>\n",
       "      <td>i just feel really helpless and heavy hearted</td>\n",
       "      <td>4</td>\n",
       "    </tr>\n",
       "    <tr>\n",
       "      <th>1</th>\n",
       "      <td>1</td>\n",
       "      <td>ive enjoyed being able to slouch about relax a...</td>\n",
       "      <td>0</td>\n",
       "    </tr>\n",
       "    <tr>\n",
       "      <th>2</th>\n",
       "      <td>2</td>\n",
       "      <td>i gave up my internship with the dmrg and am f...</td>\n",
       "      <td>4</td>\n",
       "    </tr>\n",
       "  </tbody>\n",
       "</table>\n",
       "</div>"
      ],
      "text/plain": [
       "   Unnamed: 0                                               text  label\n",
       "0           0      i just feel really helpless and heavy hearted      4\n",
       "1           1  ive enjoyed being able to slouch about relax a...      0\n",
       "2           2  i gave up my internship with the dmrg and am f...      4"
      ]
     },
     "execution_count": 2,
     "metadata": {},
     "output_type": "execute_result"
    }
   ],
   "source": [
    "df = pd.read_csv(\"/kaggle/input/emotions/text.csv\")\n",
    "df.head(3)"
   ]
  },
  {
   "cell_type": "markdown",
   "id": "f9f82824",
   "metadata": {
    "papermill": {
     "duration": 0.007143,
     "end_time": "2024-03-23T19:43:19.170326",
     "exception": false,
     "start_time": "2024-03-23T19:43:19.163183",
     "status": "completed"
    },
    "tags": []
   },
   "source": [
    "<div style=\"background-color:#08A4BD; padding:20px; border-radius:10px; box-shadow: 0 4px 8px 0 rgba(0,0,0,0.2);\">\n",
    "<p style=\"font-family:Arial, sans-serif; font-size:24px; color:#000000; text-align:center;\">📊 Data Analysis</p>\n",
    "\n",
    "<p style=\"font-family:Arial, sans-serif; font-size:16px; line-height:1.5; color:#000000;\">Now, let's dive into our dataset! 🏊‍♀️ In this phase, we'll get up close and personal with our data:</p>\n",
    "\n",
    "<ol style=\"font-family:Arial, sans-serif; font-size:16px; color:#000000;\">\n",
    "   <li>We'll read the dataset into a cozy DataFrame 📖</li>\n",
    "   <li>Next, we'll plot the value counts of the 'label' column to identify any imbalances in our classes 📈</li>\n",
    "</ol>"
   ]
  },
  {
   "cell_type": "code",
   "execution_count": 3,
   "id": "ac6c3f65",
   "metadata": {
    "execution": {
     "iopub.execute_input": "2024-03-23T19:43:19.186836Z",
     "iopub.status.busy": "2024-03-23T19:43:19.186560Z",
     "iopub.status.idle": "2024-03-23T19:43:19.192139Z",
     "shell.execute_reply": "2024-03-23T19:43:19.191235Z"
    },
    "papermill": {
     "duration": 0.016588,
     "end_time": "2024-03-23T19:43:19.194054",
     "exception": false,
     "start_time": "2024-03-23T19:43:19.177466",
     "status": "completed"
    },
    "tags": []
   },
   "outputs": [
    {
     "data": {
      "text/plain": [
       "(416809, 3)"
      ]
     },
     "execution_count": 3,
     "metadata": {},
     "output_type": "execute_result"
    }
   ],
   "source": [
    "df.shape"
   ]
  },
  {
   "cell_type": "code",
   "execution_count": 4,
   "id": "db329400",
   "metadata": {
    "execution": {
     "iopub.execute_input": "2024-03-23T19:43:19.209808Z",
     "iopub.status.busy": "2024-03-23T19:43:19.209355Z",
     "iopub.status.idle": "2024-03-23T19:43:19.228649Z",
     "shell.execute_reply": "2024-03-23T19:43:19.227808Z"
    },
    "papermill": {
     "duration": 0.029246,
     "end_time": "2024-03-23T19:43:19.230593",
     "exception": false,
     "start_time": "2024-03-23T19:43:19.201347",
     "status": "completed"
    },
    "tags": []
   },
   "outputs": [
    {
     "data": {
      "text/plain": [
       "label\n",
       "1    141067\n",
       "0    121187\n",
       "3     57317\n",
       "4     47712\n",
       "2     34554\n",
       "5     14972\n",
       "Name: count, dtype: int64"
      ]
     },
     "execution_count": 4,
     "metadata": {},
     "output_type": "execute_result"
    }
   ],
   "source": [
    "df.label.value_counts()\n"
   ]
  },
  {
   "cell_type": "markdown",
   "id": "9bb5f4dd",
   "metadata": {
    "papermill": {
     "duration": 0.007216,
     "end_time": "2024-03-23T19:43:19.246426",
     "exception": false,
     "start_time": "2024-03-23T19:43:19.239210",
     "status": "completed"
    },
    "tags": []
   },
   "source": [
    "<p  style=\"font-family:Arial, sans-serif; font-size:16px; line-height:1.5; color:#333333;\"><span style=\"font-weight:bold; color:#4B7BE5;\">Key Insight:</span> Our analysis revealed a clear class imbalance, with some emotion classes being significantly over or underrepresented. 🕵️‍♀️</p>\n",
    "\n",
    "<p style=\"font-family:Arial, sans-serif; font-size:16px; line-height:1.5; color:#333333;\">Knowledge is power, and this initial exploration will guide us in preparing our data for modeling. 💡</p>\n",
    "</div>"
   ]
  },
  {
   "cell_type": "markdown",
   "id": "80730080",
   "metadata": {
    "papermill": {
     "duration": 0.007505,
     "end_time": "2024-03-23T19:43:19.261350",
     "exception": false,
     "start_time": "2024-03-23T19:43:19.253845",
     "status": "completed"
    },
    "tags": []
   },
   "source": [
    "<div style=\"background-color:#4C212A; padding:20px; border-radius:10px; box-shadow: 0 4px 8px 0 rgba(0,0,0,0.2);\">\n",
    "<p style=\"font-family:Arial, sans-serif; font-size:24px; color:white; text-align:center;\">🔧 Data Preparation</p>\n",
    "\n",
    "<p style=\"font-family:Arial, sans-serif; font-size:16px; line-height:1.5; color:white;\">With our insights from the data analysis phase, it's time to roll up our sleeves and prepare our data for modeling! 💪 In this phase, we'll:</p>\n",
    "\n",
    "<ul style=\"font-family:Arial, sans-serif; font-size:16px; color:white;\">\n",
    "   <li>Create a custom PyTorch class to balance our dataset and control the number of rows we'll use 🎚️</li>\n",
    "   <li>Perform a train/test split on our data 🔀</li>\n",
    "   <li>Apply auto-tokenization and create data loaders to feed our hungry model 🍽️</li>\n",
    "</ul>"
   ]
  },
  {
   "cell_type": "code",
   "execution_count": 5,
   "id": "921f01c4",
   "metadata": {
    "_kg_hide-output": true,
    "execution": {
     "iopub.execute_input": "2024-03-23T19:43:19.277574Z",
     "iopub.status.busy": "2024-03-23T19:43:19.276910Z",
     "iopub.status.idle": "2024-03-23T19:43:19.510316Z",
     "shell.execute_reply": "2024-03-23T19:43:19.509425Z"
    },
    "papermill": {
     "duration": 0.243844,
     "end_time": "2024-03-23T19:43:19.512583",
     "exception": false,
     "start_time": "2024-03-23T19:43:19.268739",
     "status": "completed"
    },
    "tags": []
   },
   "outputs": [
    {
     "name": "stderr",
     "output_type": "stream",
     "text": [
      "/tmp/ipykernel_26/4146290476.py:10: DeprecationWarning: DataFrameGroupBy.apply operated on the grouping columns. This behavior is deprecated, and in a future version of pandas the grouping columns will be excluded from the operation. Either pass `include_groups=False` to exclude the groupings or explicitly select the grouping columns after groupby to silence this warning.\n",
      "  df = df.groupby('label').apply(lambda x: x.sample(min_count)).reset_index(drop=True)\n"
     ]
    }
   ],
   "source": [
    "class TextStratifiedData(Dataset):\n",
    "    def __init__(self, df, length=None):\n",
    "        if length is not None and length > df.shape[0]:\n",
    "            raise ValueError(\"Length parameter cannot be greater than the size of the dataset.\")\n",
    "        self.length = length if length is not None else len(df)\n",
    "        self.df = self.stratify(df)\n",
    " \n",
    "    def stratify(self, df):\n",
    "        min_count = df['label'].value_counts().min()\n",
    "        df = df.groupby('label').apply(lambda x: x.sample(min_count)).reset_index(drop=True)\n",
    "        return df.sample(self.length)\n",
    "\n",
    "    def len(self):\n",
    "        return self.df.shape[0]\n",
    "\n",
    "    def get_item(self, idx):\n",
    "        return self.df.iloc[idx, :]\n",
    "    \n",
    "    def get_all(self):\n",
    "        return self.df\n",
    "    \n",
    "    \n",
    "df = TextStratifiedData(df,25000)\n"
   ]
  },
  {
   "cell_type": "code",
   "execution_count": 6,
   "id": "e704fe39",
   "metadata": {
    "execution": {
     "iopub.execute_input": "2024-03-23T19:43:19.529368Z",
     "iopub.status.busy": "2024-03-23T19:43:19.529101Z",
     "iopub.status.idle": "2024-03-23T19:43:19.533273Z",
     "shell.execute_reply": "2024-03-23T19:43:19.532274Z"
    },
    "papermill": {
     "duration": 0.0147,
     "end_time": "2024-03-23T19:43:19.535106",
     "exception": false,
     "start_time": "2024-03-23T19:43:19.520406",
     "status": "completed"
    },
    "tags": []
   },
   "outputs": [],
   "source": [
    "df =df.get_all()"
   ]
  },
  {
   "cell_type": "code",
   "execution_count": 7,
   "id": "27788c5d",
   "metadata": {
    "execution": {
     "iopub.execute_input": "2024-03-23T19:43:19.551213Z",
     "iopub.status.busy": "2024-03-23T19:43:19.550756Z",
     "iopub.status.idle": "2024-03-23T19:43:19.557690Z",
     "shell.execute_reply": "2024-03-23T19:43:19.556827Z"
    },
    "papermill": {
     "duration": 0.017015,
     "end_time": "2024-03-23T19:43:19.559574",
     "exception": false,
     "start_time": "2024-03-23T19:43:19.542559",
     "status": "completed"
    },
    "tags": []
   },
   "outputs": [
    {
     "data": {
      "text/plain": [
       "label\n",
       "1    4251\n",
       "0    4203\n",
       "2    4177\n",
       "4    4144\n",
       "3    4114\n",
       "5    4111\n",
       "Name: count, dtype: int64"
      ]
     },
     "execution_count": 7,
     "metadata": {},
     "output_type": "execute_result"
    }
   ],
   "source": [
    "df.label.value_counts()"
   ]
  },
  {
   "cell_type": "markdown",
   "id": "a28ca8f9",
   "metadata": {
    "papermill": {
     "duration": 0.00745,
     "end_time": "2024-03-23T19:43:19.574652",
     "exception": false,
     "start_time": "2024-03-23T19:43:19.567202",
     "status": "completed"
    },
    "tags": []
   },
   "source": [
    "<p  style=\"font-family:Arial, sans-serif; font-size:16px; line-height:1.5; color:#333333;\"><span style=\"font-weight:bold; color:#4B7BE5;\">Key Insight:</span> Now we can see that the labels are balanced, our Class worked 🕵️‍♀️</p>\n",
    "\n"
   ]
  },
  {
   "cell_type": "code",
   "execution_count": 8,
   "id": "995abfd4",
   "metadata": {
    "execution": {
     "iopub.execute_input": "2024-03-23T19:43:19.593751Z",
     "iopub.status.busy": "2024-03-23T19:43:19.593161Z",
     "iopub.status.idle": "2024-03-23T19:43:30.154104Z",
     "shell.execute_reply": "2024-03-23T19:43:30.152915Z"
    },
    "papermill": {
     "duration": 10.573077,
     "end_time": "2024-03-23T19:43:30.156452",
     "exception": false,
     "start_time": "2024-03-23T19:43:19.583375",
     "status": "completed"
    },
    "tags": []
   },
   "outputs": [
    {
     "data": {
      "application/vnd.jupyter.widget-view+json": {
       "model_id": "6b35c2c6a5034aafb494b6643a0d7a0b",
       "version_major": 2,
       "version_minor": 0
      },
      "text/plain": [
       "tokenizer_config.json:   0%|          | 0.00/48.0 [00:00<?, ?B/s]"
      ]
     },
     "metadata": {},
     "output_type": "display_data"
    },
    {
     "data": {
      "application/vnd.jupyter.widget-view+json": {
       "model_id": "d0b8914ba24c4fa58c1fbda0ef8878f6",
       "version_major": 2,
       "version_minor": 0
      },
      "text/plain": [
       "config.json:   0%|          | 0.00/570 [00:00<?, ?B/s]"
      ]
     },
     "metadata": {},
     "output_type": "display_data"
    },
    {
     "data": {
      "application/vnd.jupyter.widget-view+json": {
       "model_id": "c01434b9117d4ef7a2278552a5ee285f",
       "version_major": 2,
       "version_minor": 0
      },
      "text/plain": [
       "vocab.txt:   0%|          | 0.00/232k [00:00<?, ?B/s]"
      ]
     },
     "metadata": {},
     "output_type": "display_data"
    },
    {
     "data": {
      "application/vnd.jupyter.widget-view+json": {
       "model_id": "17fc7a9d621044bd8ed058ac5e7209aa",
       "version_major": 2,
       "version_minor": 0
      },
      "text/plain": [
       "tokenizer.json:   0%|          | 0.00/466k [00:00<?, ?B/s]"
      ]
     },
     "metadata": {},
     "output_type": "display_data"
    },
    {
     "data": {
      "application/vnd.jupyter.widget-view+json": {
       "model_id": "32098215d7304b82a44a8541c801d795",
       "version_major": 2,
       "version_minor": 0
      },
      "text/plain": [
       "model.safetensors:   0%|          | 0.00/440M [00:00<?, ?B/s]"
      ]
     },
     "metadata": {},
     "output_type": "display_data"
    }
   ],
   "source": [
    "tokenizer = AutoTokenizer.from_pretrained(\"bert-base-uncased\")\n",
    "model = AutoModel.from_pretrained(\"bert-base-uncased\")\n",
    "\n",
    "train_texts, val_texts, train_labels, val_labels = train_test_split(df[\"text\"], df[\"label\"], test_size=0.2, random_state=42)\n",
    "\n",
    "train_texts = train_texts.tolist()\n",
    "val_texts = val_texts.tolist()\n",
    "train_labels = np.array(train_labels)\n",
    "val_labels = np.array(val_labels)\n",
    "\n",
    "train_encodings = tokenizer(train_texts, truncation=True, padding=True, max_length=128, return_tensors='pt')\n",
    "val_encodings = tokenizer(val_texts, truncation=True, padding=True, max_length=128, return_tensors='pt')\n",
    "\n",
    "train_dataset = torch.utils.data.TensorDataset(train_encodings['input_ids'], train_encodings['attention_mask'], torch.tensor(train_labels,dtype=torch.float64))\n",
    "val_dataset = torch.utils.data.TensorDataset(val_encodings['input_ids'], val_encodings['attention_mask'], torch.tensor(val_labels,dtype=torch.float64))\n",
    "\n",
    "train_dataloader = DataLoader(train_dataset, batch_size=32, shuffle=True)\n",
    "val_dataloader = DataLoader(val_dataset, batch_size=32)\n"
   ]
  },
  {
   "cell_type": "markdown",
   "id": "19dff130",
   "metadata": {
    "papermill": {
     "duration": 0.009144,
     "end_time": "2024-03-23T19:43:30.175584",
     "exception": false,
     "start_time": "2024-03-23T19:43:30.166440",
     "status": "completed"
    },
    "tags": []
   },
   "source": [
    "<p style=\"font-weight:bold; color:#4B7BE5;\">Key Insight:</span> Our dataset is quite large, so we'll start with a smaller subset for our initial experiments. 🔍</p>\n",
    "</div>"
   ]
  },
  {
   "cell_type": "markdown",
   "id": "3ac7d2ca",
   "metadata": {
    "papermill": {
     "duration": 0.008953,
     "end_time": "2024-03-23T19:43:30.194792",
     "exception": false,
     "start_time": "2024-03-23T19:43:30.185839",
     "status": "completed"
    },
    "tags": []
   },
   "source": [
    "\n",
    "<div style=\"background-color:#08A4BD; padding:20px; border-radius:10px; box-shadow: 0 4px 8px 0 rgba(0,0,0,0.2);\">\n",
    "<p style=\"font-family:Georgia, serif; font-size:24px; color:#000000; text-align:center;\">⚙️ Modeling: Approach 1</p>\n",
    "\n",
    "<p style=\"font-family:Arial, sans-serif; font-size:16px; line-height:1.5; color:#000000;\">In our first modeling approach, we'll be building a powerful architecture fueled by the mighty BERT! 💥 Here's what we've got in store:</p>\n",
    "\n",
    "<ol style=\"font-family:Arial, sans-serif; font-size:16px; color:#000000;\">\n",
    "   <li>We'll create a model class with BERT as the backbone, followed by a pooling layer and a fully connected layer 🧠</li>\n",
    "   <li>To harness the power of Kaggle's dual GPU accelerators, we'll utilize `nn.parallel` 🔥</li>\n",
    "   <li>We'll define a cross-entropy criterion that applies softmax to the final layer of our model 🎯</li>\n",
    "   <li>Finally, we'll implement training and testing loops to optimize our model's performance 🏋️‍♀️</li>\n",
    "</ol>\n",
    "</div>"
   ]
  },
  {
   "cell_type": "code",
   "execution_count": 9,
   "id": "3af460a4",
   "metadata": {
    "execution": {
     "iopub.execute_input": "2024-03-23T19:43:30.214461Z",
     "iopub.status.busy": "2024-03-23T19:43:30.213909Z",
     "iopub.status.idle": "2024-03-23T19:57:23.188580Z",
     "shell.execute_reply": "2024-03-23T19:57:23.187553Z"
    },
    "papermill": {
     "duration": 832.987549,
     "end_time": "2024-03-23T19:57:23.191449",
     "exception": false,
     "start_time": "2024-03-23T19:43:30.203900",
     "status": "completed"
    },
    "tags": []
   },
   "outputs": [],
   "source": [
    "class EmotionClassifier(nn.Module):\n",
    "    def __init__(self, transformer_model, num_classes):\n",
    "        super(EmotionClassifier, self).__init__()\n",
    "        self.transformer = transformer_model\n",
    "        self.fc = nn.Linear(768, num_classes)  \n",
    "        \n",
    "    def forward(self, input_ids, attention_mask):\n",
    "        output = self.transformer(input_ids=input_ids, attention_mask=attention_mask)\n",
    "        pooled_output = output.pooler_output \n",
    "        logits = self.fc(pooled_output)\n",
    "        return logits\n",
    "\n",
    "    \n",
    "\n",
    "\n",
    "num_classes =6  \n",
    "\n",
    "device = torch.device(\"cuda\" if torch.cuda.is_available() else \"cpu\")\n",
    "\n",
    "\n",
    "\n",
    "model = EmotionClassifier(model, num_classes)\n",
    "model = DataParallel(model)\n",
    "model = model.to(device)\n",
    "\n",
    "\n",
    "\n",
    "optimizer = torch.optim.Adam(model.parameters(), lr=1e-5)\n",
    "criterion = nn.CrossEntropyLoss()\n",
    "\n",
    "num_epochs=3\n",
    "for epoch in range(num_epochs):\n",
    "    model.train()\n",
    "    total_loss = 0.0\n",
    "    total_correct = 0\n",
    "    \n",
    "    for batch in train_dataloader:\n",
    "        input_ids, attention_mask, labels = batch\n",
    "        input_ids, attention_mask, labels = input_ids.to(device), attention_mask.to(device), labels.to(device)\n",
    "        \n",
    "        optimizer.zero_grad()\n",
    "        outputs = model(input_ids, attention_mask)\n",
    "       \n",
    "\n",
    "        labels = labels.to(device).long()\n",
    "        outputs = outputs.float()\n",
    "        \n",
    "\n",
    "\n",
    "        \n",
    "        loss = criterion(outputs, labels)\n",
    "        loss.backward()\n",
    "        optimizer.step()\n",
    "        \n",
    "        total_loss += loss.item()\n",
    "        _, predicted = torch.max(outputs, 1)\n",
    "        total_correct += (predicted == labels).sum().item()\n",
    "    \n",
    "    train_loss = total_loss / len(train_dataloader)\n",
    "    train_accuracy = total_correct / len(train_dataset)\n",
    "    \n",
    "    # Validation loop\n",
    "    model.eval()\n",
    "    total_val_loss = 0.0\n",
    "    total_val_correct = 0\n",
    "    val_predicted = []\n",
    "    val_labels = []\n",
    "    \n",
    "    with torch.no_grad():\n",
    "        for batch in val_dataloader:\n",
    "            input_ids, attention_mask, labels = batch\n",
    "            input_ids, attention_mask, labels = input_ids.to(device), attention_mask.to(device), labels.to(device)\n",
    "\n",
    "            outputs = model(input_ids, attention_mask)\n",
    "            labels = labels.to(device).long()\n",
    "            \n",
    "            \n",
    "\n",
    "            outputs = outputs.float()\n",
    "            loss = criterion(outputs, labels)\n",
    "\n",
    "            total_val_loss += loss.item()\n",
    "            _, predicted = torch.max(outputs, 1)\n",
    "            total_val_correct += (predicted == labels).sum().item()\n",
    "            val_predicted.extend(predicted.cpu().numpy())\n",
    "            val_labels.extend(labels.cpu().numpy())\n",
    "    \n",
    "\n",
    "\n"
   ]
  },
  {
   "cell_type": "markdown",
   "id": "e4c8ff1e",
   "metadata": {
    "papermill": {
     "duration": 0.009139,
     "end_time": "2024-03-23T19:57:23.214085",
     "exception": false,
     "start_time": "2024-03-23T19:57:23.204946",
     "status": "completed"
    },
    "tags": []
   },
   "source": [
    "<div style=\"background-color:#264653; padding:20px; border-radius:10px; box-shadow: 0 4px 8px 0 rgba(0,0,0,0.2);\">\n",
    "<p style=\"font-family:Georgia, serif; font-size:24px; color:white; text-align:center;\">📈 Results: Approach 1</p>\n",
    "\n",
    "<p style=\"font-family:Arial, sans-serif; font-size:16px; line-height:1.5; color:white;\">Our first modeling approach has yielded some promising results! 🎉 With this architecture, we achieved an impressive F1 score of around 93%. 🏆</p>\n",
    "</div>"
   ]
  },
  {
   "cell_type": "code",
   "execution_count": 10,
   "id": "d40f8d82",
   "metadata": {
    "execution": {
     "iopub.execute_input": "2024-03-23T19:57:23.233500Z",
     "iopub.status.busy": "2024-03-23T19:57:23.232669Z",
     "iopub.status.idle": "2024-03-23T19:57:23.260237Z",
     "shell.execute_reply": "2024-03-23T19:57:23.258897Z"
    },
    "papermill": {
     "duration": 0.039864,
     "end_time": "2024-03-23T19:57:23.262745",
     "exception": false,
     "start_time": "2024-03-23T19:57:23.222881",
     "status": "completed"
    },
    "tags": []
   },
   "outputs": [
    {
     "name": "stdout",
     "output_type": "stream",
     "text": [
      "Classification Report:\n",
      "              precision    recall  f1-score   support\n",
      "\n",
      "     Class 0       0.98      0.95      0.96       903\n",
      "     Class 1       0.98      0.91      0.95       815\n",
      "     Class 2       0.94      0.99      0.96       843\n",
      "     Class 3       0.96      0.94      0.95       818\n",
      "     Class 4       0.94      0.89      0.91       795\n",
      "     Class 5       0.91      1.00      0.95       826\n",
      "\n",
      "    accuracy                           0.95      5000\n",
      "   macro avg       0.95      0.95      0.95      5000\n",
      "weighted avg       0.95      0.95      0.95      5000\n",
      "\n"
     ]
    }
   ],
   "source": [
    "from sklearn.metrics import classification_report\n",
    "\n",
    "\n",
    "val_predicted = np.array(val_predicted)\n",
    "val_labels = np.array(val_labels)\n",
    "\n",
    "\n",
    "report = classification_report(val_labels, val_predicted, target_names=[f'Class {i}' for i in range(num_classes)])\n",
    "\n",
    "print(\"Classification Report:\")\n",
    "print(report)"
   ]
  },
  {
   "cell_type": "markdown",
   "id": "ddb20f3a",
   "metadata": {
    "papermill": {
     "duration": 0.008691,
     "end_time": "2024-03-23T19:57:23.283972",
     "exception": false,
     "start_time": "2024-03-23T19:57:23.275281",
     "status": "completed"
    },
    "tags": []
   },
   "source": [
    "<div style=\"background-color:#08A4BD; padding:20px; border-radius:10px; box-shadow: 0 4px 8px 0 rgba(0,0,0,0.2);\">\n",
    "<p style=\"font-family:Georgia, serif; font-size:24px; color:#000000; text-align:center;\">⚙️ Modeling: Approach 2</p>\n",
    "\n",
    "<p style=\"font-family:Arial, sans-serif; font-size:16px; line-height:1.5; color:#000000;\">For our second modeling approach, we're going to take things up a notch! 🔥 Building upon our previous architecture, we'll be adding convolutional layers with dropouts to our model.</p>\n",
    "\n",
    "<p style=\"font-family:Arial, sans-serif; font-size:16px; line-height:1.5; color:#000000;\">Why, you ask? 🤔 Well, these additional layers have the potential to capture more complex features and patterns in our data, potentially leading to even better performance. 🚀</p>\n",
    "</div>"
   ]
  },
  {
   "cell_type": "code",
   "execution_count": 11,
   "id": "2677e2b3",
   "metadata": {
    "execution": {
     "iopub.execute_input": "2024-03-23T19:57:23.302964Z",
     "iopub.status.busy": "2024-03-23T19:57:23.302611Z",
     "iopub.status.idle": "2024-03-23T19:57:28.797826Z",
     "shell.execute_reply": "2024-03-23T19:57:28.796811Z"
    },
    "papermill": {
     "duration": 5.507463,
     "end_time": "2024-03-23T19:57:28.800267",
     "exception": false,
     "start_time": "2024-03-23T19:57:23.292804",
     "status": "completed"
    },
    "tags": []
   },
   "outputs": [],
   "source": [
    "tokenizer = AutoTokenizer.from_pretrained(\"bert-base-uncased\")\n",
    "model = AutoModel.from_pretrained(\"bert-base-uncased\")\n",
    "\n",
    "train_texts, val_texts, train_labels, val_labels = train_test_split(df[\"text\"], df[\"label\"], test_size=0.2, random_state=42)\n",
    "\n",
    "train_texts = train_texts.tolist()\n",
    "val_texts = val_texts.tolist()\n",
    "train_labels = np.array(train_labels)\n",
    "val_labels = np.array(val_labels)\n",
    "\n",
    "train_encodings = tokenizer(train_texts, truncation=True, padding=True, max_length=128, return_tensors='pt')\n",
    "val_encodings = tokenizer(val_texts, truncation=True, padding=True, max_length=128, return_tensors='pt')\n",
    "\n",
    "train_dataset = torch.utils.data.TensorDataset(train_encodings['input_ids'], train_encodings['attention_mask'], torch.tensor(train_labels,dtype=torch.float64))\n",
    "val_dataset = torch.utils.data.TensorDataset(val_encodings['input_ids'], val_encodings['attention_mask'], torch.tensor(val_labels,dtype=torch.float64))\n",
    "\n",
    "train_dataloader = DataLoader(train_dataset, batch_size=32, shuffle=True)\n",
    "val_dataloader = DataLoader(val_dataset, batch_size=32)\n"
   ]
  },
  {
   "cell_type": "code",
   "execution_count": 12,
   "id": "e98cee81",
   "metadata": {
    "execution": {
     "iopub.execute_input": "2024-03-23T19:57:28.824766Z",
     "iopub.status.busy": "2024-03-23T19:57:28.824431Z",
     "iopub.status.idle": "2024-03-23T19:57:28.832048Z",
     "shell.execute_reply": "2024-03-23T19:57:28.831155Z"
    },
    "papermill": {
     "duration": 0.023747,
     "end_time": "2024-03-23T19:57:28.833891",
     "exception": false,
     "start_time": "2024-03-23T19:57:28.810144",
     "status": "completed"
    },
    "tags": []
   },
   "outputs": [],
   "source": [
    "class EmotionClassifierWithConv(nn.Module):\n",
    "    def __init__(self, transformer_model, num_classes, kernel_size=3, num_filters=256):\n",
    "        super(EmotionClassifierWithConv, self).__init__()\n",
    "        self.transformer = transformer_model\n",
    "        self.conv = nn.Conv1d(in_channels=768, out_channels=num_filters, kernel_size=kernel_size, padding=1)  # Adjust padding\n",
    "        self.fc = nn.Linear(num_filters, num_classes)\n",
    "    \n",
    "    def forward(self, input_ids, attention_mask):\n",
    "        output = self.transformer(input_ids=input_ids, attention_mask=attention_mask)\n",
    "        pooled_output = output.pooler_output\n",
    "        pooled_output = pooled_output.unsqueeze(2)\n",
    "        \n",
    "        conv_out = F.relu(self.conv(pooled_output))\n",
    "        pooled_conv_out, _ = torch.max(conv_out, dim=2)  \n",
    "        logits = self.fc(pooled_conv_out)\n",
    "        return logits\n"
   ]
  },
  {
   "cell_type": "code",
   "execution_count": 13,
   "id": "49663138",
   "metadata": {
    "execution": {
     "iopub.execute_input": "2024-03-23T19:57:28.852667Z",
     "iopub.status.busy": "2024-03-23T19:57:28.852396Z",
     "iopub.status.idle": "2024-03-23T20:11:24.522795Z",
     "shell.execute_reply": "2024-03-23T20:11:24.522009Z"
    },
    "papermill": {
     "duration": 835.682179,
     "end_time": "2024-03-23T20:11:24.525117",
     "exception": false,
     "start_time": "2024-03-23T19:57:28.842938",
     "status": "completed"
    },
    "tags": []
   },
   "outputs": [],
   "source": [
    "num_classes =6  \n",
    "device = torch.device(\"cuda\" if torch.cuda.is_available() else \"cpu\")\n",
    "device_ids = [0, 1]  \n",
    "\n",
    "\n",
    "model = EmotionClassifierWithConv(model, num_classes)\n",
    "model = nn.DataParallel(model, device_ids=device_ids)\n",
    "model = model.to(device)\n",
    "\n",
    "\n",
    "optimizer = torch.optim.Adam(model.parameters(), lr=1e-5)\n",
    "criterion = nn.CrossEntropyLoss()\n",
    "\n",
    "\n",
    "num_epochs=3\n",
    "for epoch in range(num_epochs):\n",
    "    model.train()\n",
    "    total_loss = 0.0\n",
    "    total_correct = 0\n",
    "    \n",
    "    for batch in train_dataloader:\n",
    "        input_ids, attention_mask, labels = batch\n",
    "        input_ids, attention_mask, labels = input_ids.to(device), attention_mask.to(device), labels.to(device)\n",
    "        \n",
    "        optimizer.zero_grad()\n",
    "        outputs = model(input_ids, attention_mask)\n",
    "       \n",
    "\n",
    "        labels = labels.to(device).long()\n",
    "        outputs = outputs.float()\n",
    "        \n",
    "\n",
    "\n",
    "        \n",
    "        loss = criterion(outputs, labels)\n",
    "        loss.backward()\n",
    "        optimizer.step()\n",
    "        \n",
    "        total_loss += loss.item()\n",
    "        _, predicted = torch.max(outputs, 1)\n",
    "        total_correct += (predicted == labels).sum().item()\n",
    "    \n",
    "    train_loss = total_loss / len(train_dataloader)\n",
    "    train_accuracy = total_correct / len(train_dataset)\n",
    "    \n",
    "    # Validation loop\n",
    "    model.eval()\n",
    "    total_val_loss = 0.0\n",
    "    total_val_correct = 0\n",
    "    val_predicted = []\n",
    "    val_labels = []\n",
    "    \n",
    "    with torch.no_grad():\n",
    "        for batch in val_dataloader:\n",
    "            input_ids, attention_mask, labels = batch\n",
    "            input_ids, attention_mask, labels = input_ids.to(device), attention_mask.to(device), labels.to(device)\n",
    "\n",
    "            outputs = model(input_ids, attention_mask)\n",
    "            labels = labels.to(device).long()\n",
    "            \n",
    "            outputs = outputs.float()\n",
    "            loss = criterion(outputs, labels)\n",
    "\n",
    "            total_val_loss += loss.item()\n",
    "            _, predicted = torch.max(outputs, 1)\n",
    "            total_val_correct += (predicted == labels).sum().item()\n",
    "            val_predicted.extend(predicted.cpu().numpy())\n",
    "            val_labels.extend(labels.cpu().numpy())\n",
    "    "
   ]
  },
  {
   "cell_type": "code",
   "execution_count": 14,
   "id": "27747e27",
   "metadata": {
    "execution": {
     "iopub.execute_input": "2024-03-23T20:11:24.546411Z",
     "iopub.status.busy": "2024-03-23T20:11:24.546112Z",
     "iopub.status.idle": "2024-03-23T20:11:24.563415Z",
     "shell.execute_reply": "2024-03-23T20:11:24.562390Z"
    },
    "papermill": {
     "duration": 0.029212,
     "end_time": "2024-03-23T20:11:24.565530",
     "exception": false,
     "start_time": "2024-03-23T20:11:24.536318",
     "status": "completed"
    },
    "tags": []
   },
   "outputs": [
    {
     "name": "stdout",
     "output_type": "stream",
     "text": [
      "Classification Report:\n",
      "              precision    recall  f1-score   support\n",
      "\n",
      "     Class 0       0.99      0.95      0.97       903\n",
      "     Class 1       0.98      0.91      0.94       815\n",
      "     Class 2       0.93      1.00      0.96       843\n",
      "     Class 3       0.94      0.97      0.95       818\n",
      "     Class 4       0.95      0.87      0.91       795\n",
      "     Class 5       0.91      1.00      0.95       826\n",
      "\n",
      "    accuracy                           0.95      5000\n",
      "   macro avg       0.95      0.95      0.95      5000\n",
      "weighted avg       0.95      0.95      0.95      5000\n",
      "\n"
     ]
    }
   ],
   "source": [
    "from sklearn.metrics import classification_report\n",
    "\n",
    "\n",
    "val_predicted = np.array(val_predicted)\n",
    "val_labels = np.array(val_labels)\n",
    "\n",
    "\n",
    "report = classification_report(val_labels, val_predicted, target_names=[f'Class {i}' for i in range(num_classes)])\n",
    "\n",
    "print(\"Classification Report:\")\n",
    "print(report)"
   ]
  },
  {
   "cell_type": "markdown",
   "id": "fb3efaac",
   "metadata": {
    "papermill": {
     "duration": 0.008861,
     "end_time": "2024-03-23T20:11:24.583312",
     "exception": false,
     "start_time": "2024-03-23T20:11:24.574451",
     "status": "completed"
    },
    "tags": []
   },
   "source": [
    "<div style=\"background-color:#4C212A; padding:20px; border-radius:10px; box-shadow: 0 4px 8px 0 rgba(0,0,0,0.2);\">\n",
    "<p style=\"font-family:Georgia, serif; font-size:24px; color:white; text-align:center;\">📈 Results: Approach 2</p>\n",
    "\n",
    "<p style=\"font-family:Arial, sans-serif; font-size:16px; line-height:1.5; color:white;\">Drumroll, please! 🥁 Our second modeling approach has taken our performance to new heights! 🏔️</p>\n",
    "\n",
    "<ul style=\"font-family:Arial, sans-serif; font-size:16px; color:white;\">\n",
    "   <li>The F1 score has been upgraded to an impressive ~95%! 🏆</li>\n",
    "   <li>But that's not all! We've also achieved excellent precision and recall values across all six emotion classes. 💯</li>\n",
    "</ul>\n",
    "<p style=\"font-family:Arial, sans-serif; font-size:16px; line-height:1.5; color:white;\">Now let's save our model</p>\n",
    "</div>"
   ]
  },
  {
   "cell_type": "code",
   "execution_count": 15,
   "id": "c59b2ec5",
   "metadata": {
    "execution": {
     "iopub.execute_input": "2024-03-23T20:11:24.601897Z",
     "iopub.status.busy": "2024-03-23T20:11:24.601609Z",
     "iopub.status.idle": "2024-03-23T20:11:26.240058Z",
     "shell.execute_reply": "2024-03-23T20:11:26.238933Z"
    },
    "papermill": {
     "duration": 1.650158,
     "end_time": "2024-03-23T20:11:26.242410",
     "exception": false,
     "start_time": "2024-03-23T20:11:24.592252",
     "status": "completed"
    },
    "tags": []
   },
   "outputs": [
    {
     "name": "stderr",
     "output_type": "stream",
     "text": [
      "huggingface/tokenizers: The current process just got forked, after parallelism has already been used. Disabling parallelism to avoid deadlocks...\n",
      "To disable this warning, you can either:\n",
      "\t- Avoid using `tokenizers` before the fork if possible\n",
      "\t- Explicitly set the environment variable TOKENIZERS_PARALLELISM=(true | false)\n"
     ]
    },
    {
     "name": "stdout",
     "output_type": "stream",
     "text": [
      "cp: 'model_weights.pth' and '/kaggle/working/model_weights.pth' are the same file\r\n"
     ]
    }
   ],
   "source": [
    "torch.save(model.state_dict(), 'model_weights.pth')\n",
    "!cp model_weights.pth /kaggle/working/"
   ]
  },
  {
   "cell_type": "markdown",
   "id": "0524331e",
   "metadata": {
    "papermill": {
     "duration": 0.008764,
     "end_time": "2024-03-23T20:11:26.260751",
     "exception": false,
     "start_time": "2024-03-23T20:11:26.251987",
     "status": "completed"
    },
    "tags": []
   },
   "source": [
    "<div style=\"background-color:#08A4BD; padding:20px; border-radius:10px; box-shadow: 0 4px 8px 0 rgba(0,0,0,0.2);\">\n",
    "<p style=\"font-family:Georgia, serif; font-size:24px; color:#000000; text-align:center;\">🎉 Conclusion</p>\n",
    "\n",
    "<p style=\"font-family:Arial, sans-serif; font-size:16px; line-height:1.5; color:#000000;\">Congratulations! We've made it to the end of our emotion classification journey! 🏆 Through this project, we've explored the power of fine-tuning BERT models and enhancing their architectures with additional layers.</p>\n",
    "\n",
    "<p style=\"font-family:Arial, sans-serif; font-size:16px; line-height:1.5; color:#000000;\">Our efforts have paid off, as we've achieved outstanding results, with an impressive F1 score of ~95% and excellent precision and recall values across all six emotion classes. 🚀</p>\n",
    "\n",
    "<p style=\"font-family:Arial, sans-serif; font-size:16px; line-height:1.5; color:#000000;\">But our journey doesn't end here. There's always room for improvement and new challenges to tackle. Feel free to experiment with different architectures, try out other pre-trained language models, or even explore different datasets. The possibilities are endless! 🌍</p>\n",
    "\n",
    "<p style=\"font-family:Arial, sans-serif; font-size:16px; line-height:1.5; color:#000000;\">If you found this notebook helpful and insightful, we'd greatly appreciate it if you could upvote it on Kaggle. Your support means a lot and encourages us to continue sharing our knowledge and experiences with the community. 👏</p>\n",
    "\n",
    "<p style=\"font-family:Arial, sans-serif; font-size:16px; line-height:1.5; color:#000000;\">Thank you for joining us on this incredible journey, and happy coding! 🙌</p>\n",
    "</div>"
   ]
  }
 ],
 "metadata": {
  "kaggle": {
   "accelerator": "nvidiaTeslaT4",
   "dataSources": [
    {
     "datasetId": 4403839,
     "sourceId": 7563141,
     "sourceType": "datasetVersion"
    }
   ],
   "dockerImageVersionId": 30673,
   "isGpuEnabled": true,
   "isInternetEnabled": true,
   "language": "python",
   "sourceType": "notebook"
  },
  "kernelspec": {
   "display_name": "Python 3",
   "language": "python",
   "name": "python3"
  },
  "language_info": {
   "codemirror_mode": {
    "name": "ipython",
    "version": 3
   },
   "file_extension": ".py",
   "mimetype": "text/x-python",
   "name": "python",
   "nbconvert_exporter": "python",
   "pygments_lexer": "ipython3",
   "version": "3.10.13"
  },
  "papermill": {
   "default_parameters": {},
   "duration": 1710.665667,
   "end_time": "2024-03-23T20:11:29.538179",
   "environment_variables": {},
   "exception": null,
   "input_path": "__notebook__.ipynb",
   "output_path": "__notebook__.ipynb",
   "parameters": {},
   "start_time": "2024-03-23T19:42:58.872512",
   "version": "2.5.0"
  },
  "widgets": {
   "application/vnd.jupyter.widget-state+json": {
    "state": {
     "021c0a7d950245b8a9604f6c09398c5f": {
      "model_module": "@jupyter-widgets/base",
      "model_module_version": "1.2.0",
      "model_name": "LayoutModel",
      "state": {
       "_model_module": "@jupyter-widgets/base",
       "_model_module_version": "1.2.0",
       "_model_name": "LayoutModel",
       "_view_count": null,
       "_view_module": "@jupyter-widgets/base",
       "_view_module_version": "1.2.0",
       "_view_name": "LayoutView",
       "align_content": null,
       "align_items": null,
       "align_self": null,
       "border": null,
       "bottom": null,
       "display": null,
       "flex": null,
       "flex_flow": null,
       "grid_area": null,
       "grid_auto_columns": null,
       "grid_auto_flow": null,
       "grid_auto_rows": null,
       "grid_column": null,
       "grid_gap": null,
       "grid_row": null,
       "grid_template_areas": null,
       "grid_template_columns": null,
       "grid_template_rows": null,
       "height": null,
       "justify_content": null,
       "justify_items": null,
       "left": null,
       "margin": null,
       "max_height": null,
       "max_width": null,
       "min_height": null,
       "min_width": null,
       "object_fit": null,
       "object_position": null,
       "order": null,
       "overflow": null,
       "overflow_x": null,
       "overflow_y": null,
       "padding": null,
       "right": null,
       "top": null,
       "visibility": null,
       "width": null
      }
     },
     "049c982f515842db8bf3123ba21017ba": {
      "model_module": "@jupyter-widgets/base",
      "model_module_version": "1.2.0",
      "model_name": "LayoutModel",
      "state": {
       "_model_module": "@jupyter-widgets/base",
       "_model_module_version": "1.2.0",
       "_model_name": "LayoutModel",
       "_view_count": null,
       "_view_module": "@jupyter-widgets/base",
       "_view_module_version": "1.2.0",
       "_view_name": "LayoutView",
       "align_content": null,
       "align_items": null,
       "align_self": null,
       "border": null,
       "bottom": null,
       "display": null,
       "flex": null,
       "flex_flow": null,
       "grid_area": null,
       "grid_auto_columns": null,
       "grid_auto_flow": null,
       "grid_auto_rows": null,
       "grid_column": null,
       "grid_gap": null,
       "grid_row": null,
       "grid_template_areas": null,
       "grid_template_columns": null,
       "grid_template_rows": null,
       "height": null,
       "justify_content": null,
       "justify_items": null,
       "left": null,
       "margin": null,
       "max_height": null,
       "max_width": null,
       "min_height": null,
       "min_width": null,
       "object_fit": null,
       "object_position": null,
       "order": null,
       "overflow": null,
       "overflow_x": null,
       "overflow_y": null,
       "padding": null,
       "right": null,
       "top": null,
       "visibility": null,
       "width": null
      }
     },
     "0f73c0d42bf9438f9135b125ac4d1354": {
      "model_module": "@jupyter-widgets/controls",
      "model_module_version": "1.5.0",
      "model_name": "HTMLModel",
      "state": {
       "_dom_classes": [],
       "_model_module": "@jupyter-widgets/controls",
       "_model_module_version": "1.5.0",
       "_model_name": "HTMLModel",
       "_view_count": null,
       "_view_module": "@jupyter-widgets/controls",
       "_view_module_version": "1.5.0",
       "_view_name": "HTMLView",
       "description": "",
       "description_tooltip": null,
       "layout": "IPY_MODEL_021c0a7d950245b8a9604f6c09398c5f",
       "placeholder": "​",
       "style": "IPY_MODEL_77b2d3e187844d48a659ff32cac160e9",
       "value": " 466k/466k [00:00&lt;00:00, 7.01MB/s]"
      }
     },
     "10c637fddc874a2ca0d6be857ccf8c59": {
      "model_module": "@jupyter-widgets/base",
      "model_module_version": "1.2.0",
      "model_name": "LayoutModel",
      "state": {
       "_model_module": "@jupyter-widgets/base",
       "_model_module_version": "1.2.0",
       "_model_name": "LayoutModel",
       "_view_count": null,
       "_view_module": "@jupyter-widgets/base",
       "_view_module_version": "1.2.0",
       "_view_name": "LayoutView",
       "align_content": null,
       "align_items": null,
       "align_self": null,
       "border": null,
       "bottom": null,
       "display": null,
       "flex": null,
       "flex_flow": null,
       "grid_area": null,
       "grid_auto_columns": null,
       "grid_auto_flow": null,
       "grid_auto_rows": null,
       "grid_column": null,
       "grid_gap": null,
       "grid_row": null,
       "grid_template_areas": null,
       "grid_template_columns": null,
       "grid_template_rows": null,
       "height": null,
       "justify_content": null,
       "justify_items": null,
       "left": null,
       "margin": null,
       "max_height": null,
       "max_width": null,
       "min_height": null,
       "min_width": null,
       "object_fit": null,
       "object_position": null,
       "order": null,
       "overflow": null,
       "overflow_x": null,
       "overflow_y": null,
       "padding": null,
       "right": null,
       "top": null,
       "visibility": null,
       "width": null
      }
     },
     "15533df1afa8400f94a4f599fb9b2ebd": {
      "model_module": "@jupyter-widgets/controls",
      "model_module_version": "1.5.0",
      "model_name": "FloatProgressModel",
      "state": {
       "_dom_classes": [],
       "_model_module": "@jupyter-widgets/controls",
       "_model_module_version": "1.5.0",
       "_model_name": "FloatProgressModel",
       "_view_count": null,
       "_view_module": "@jupyter-widgets/controls",
       "_view_module_version": "1.5.0",
       "_view_name": "ProgressView",
       "bar_style": "success",
       "description": "",
       "description_tooltip": null,
       "layout": "IPY_MODEL_c81133a52cdf44e2815e016e13d6d793",
       "max": 440449768.0,
       "min": 0.0,
       "orientation": "horizontal",
       "style": "IPY_MODEL_853efb200f8f49c6ba144920c1fda1fc",
       "value": 440449768.0
      }
     },
     "17fc7a9d621044bd8ed058ac5e7209aa": {
      "model_module": "@jupyter-widgets/controls",
      "model_module_version": "1.5.0",
      "model_name": "HBoxModel",
      "state": {
       "_dom_classes": [],
       "_model_module": "@jupyter-widgets/controls",
       "_model_module_version": "1.5.0",
       "_model_name": "HBoxModel",
       "_view_count": null,
       "_view_module": "@jupyter-widgets/controls",
       "_view_module_version": "1.5.0",
       "_view_name": "HBoxView",
       "box_style": "",
       "children": [
        "IPY_MODEL_81c5d5d0ae304b599e2a089b8323a32d",
        "IPY_MODEL_4d192a91aedc4a6591f9448105449330",
        "IPY_MODEL_0f73c0d42bf9438f9135b125ac4d1354"
       ],
       "layout": "IPY_MODEL_5dc280a32b5748af9377c24037079901"
      }
     },
     "1c576144bbe249b8a14cbce526bd2451": {
      "model_module": "@jupyter-widgets/controls",
      "model_module_version": "1.5.0",
      "model_name": "DescriptionStyleModel",
      "state": {
       "_model_module": "@jupyter-widgets/controls",
       "_model_module_version": "1.5.0",
       "_model_name": "DescriptionStyleModel",
       "_view_count": null,
       "_view_module": "@jupyter-widgets/base",
       "_view_module_version": "1.2.0",
       "_view_name": "StyleView",
       "description_width": ""
      }
     },
     "2137e5d2025a4c9aa05a41f386801fa9": {
      "model_module": "@jupyter-widgets/controls",
      "model_module_version": "1.5.0",
      "model_name": "DescriptionStyleModel",
      "state": {
       "_model_module": "@jupyter-widgets/controls",
       "_model_module_version": "1.5.0",
       "_model_name": "DescriptionStyleModel",
       "_view_count": null,
       "_view_module": "@jupyter-widgets/base",
       "_view_module_version": "1.2.0",
       "_view_name": "StyleView",
       "description_width": ""
      }
     },
     "22fec004b00748048878dfa1cbb97836": {
      "model_module": "@jupyter-widgets/base",
      "model_module_version": "1.2.0",
      "model_name": "LayoutModel",
      "state": {
       "_model_module": "@jupyter-widgets/base",
       "_model_module_version": "1.2.0",
       "_model_name": "LayoutModel",
       "_view_count": null,
       "_view_module": "@jupyter-widgets/base",
       "_view_module_version": "1.2.0",
       "_view_name": "LayoutView",
       "align_content": null,
       "align_items": null,
       "align_self": null,
       "border": null,
       "bottom": null,
       "display": null,
       "flex": null,
       "flex_flow": null,
       "grid_area": null,
       "grid_auto_columns": null,
       "grid_auto_flow": null,
       "grid_auto_rows": null,
       "grid_column": null,
       "grid_gap": null,
       "grid_row": null,
       "grid_template_areas": null,
       "grid_template_columns": null,
       "grid_template_rows": null,
       "height": null,
       "justify_content": null,
       "justify_items": null,
       "left": null,
       "margin": null,
       "max_height": null,
       "max_width": null,
       "min_height": null,
       "min_width": null,
       "object_fit": null,
       "object_position": null,
       "order": null,
       "overflow": null,
       "overflow_x": null,
       "overflow_y": null,
       "padding": null,
       "right": null,
       "top": null,
       "visibility": null,
       "width": null
      }
     },
     "277670ad90464233bce4e3bd41e6cf40": {
      "model_module": "@jupyter-widgets/controls",
      "model_module_version": "1.5.0",
      "model_name": "HTMLModel",
      "state": {
       "_dom_classes": [],
       "_model_module": "@jupyter-widgets/controls",
       "_model_module_version": "1.5.0",
       "_model_name": "HTMLModel",
       "_view_count": null,
       "_view_module": "@jupyter-widgets/controls",
       "_view_module_version": "1.5.0",
       "_view_name": "HTMLView",
       "description": "",
       "description_tooltip": null,
       "layout": "IPY_MODEL_cb87e24dbd2b4122b9964f2a1b499c80",
       "placeholder": "​",
       "style": "IPY_MODEL_9f6b7d3d6e234a86a634efce502c61ea",
       "value": " 570/570 [00:00&lt;00:00, 48.0kB/s]"
      }
     },
     "2b25037108214b3ca15ce2b11df4f3f9": {
      "model_module": "@jupyter-widgets/base",
      "model_module_version": "1.2.0",
      "model_name": "LayoutModel",
      "state": {
       "_model_module": "@jupyter-widgets/base",
       "_model_module_version": "1.2.0",
       "_model_name": "LayoutModel",
       "_view_count": null,
       "_view_module": "@jupyter-widgets/base",
       "_view_module_version": "1.2.0",
       "_view_name": "LayoutView",
       "align_content": null,
       "align_items": null,
       "align_self": null,
       "border": null,
       "bottom": null,
       "display": null,
       "flex": null,
       "flex_flow": null,
       "grid_area": null,
       "grid_auto_columns": null,
       "grid_auto_flow": null,
       "grid_auto_rows": null,
       "grid_column": null,
       "grid_gap": null,
       "grid_row": null,
       "grid_template_areas": null,
       "grid_template_columns": null,
       "grid_template_rows": null,
       "height": null,
       "justify_content": null,
       "justify_items": null,
       "left": null,
       "margin": null,
       "max_height": null,
       "max_width": null,
       "min_height": null,
       "min_width": null,
       "object_fit": null,
       "object_position": null,
       "order": null,
       "overflow": null,
       "overflow_x": null,
       "overflow_y": null,
       "padding": null,
       "right": null,
       "top": null,
       "visibility": null,
       "width": null
      }
     },
     "2c90c1686619491f8e2d734dcc70e613": {
      "model_module": "@jupyter-widgets/controls",
      "model_module_version": "1.5.0",
      "model_name": "ProgressStyleModel",
      "state": {
       "_model_module": "@jupyter-widgets/controls",
       "_model_module_version": "1.5.0",
       "_model_name": "ProgressStyleModel",
       "_view_count": null,
       "_view_module": "@jupyter-widgets/base",
       "_view_module_version": "1.2.0",
       "_view_name": "StyleView",
       "bar_color": null,
       "description_width": ""
      }
     },
     "32098215d7304b82a44a8541c801d795": {
      "model_module": "@jupyter-widgets/controls",
      "model_module_version": "1.5.0",
      "model_name": "HBoxModel",
      "state": {
       "_dom_classes": [],
       "_model_module": "@jupyter-widgets/controls",
       "_model_module_version": "1.5.0",
       "_model_name": "HBoxModel",
       "_view_count": null,
       "_view_module": "@jupyter-widgets/controls",
       "_view_module_version": "1.5.0",
       "_view_name": "HBoxView",
       "box_style": "",
       "children": [
        "IPY_MODEL_ee2b7cc6df324767be9f2df670ddeb6b",
        "IPY_MODEL_15533df1afa8400f94a4f599fb9b2ebd",
        "IPY_MODEL_db70187a39d74bd49e020582e0c996a7"
       ],
       "layout": "IPY_MODEL_ed445f88b47e42b0ab26a93716dcf59f"
      }
     },
     "36c06af3056f4b4dbaffe9b50e8fc23a": {
      "model_module": "@jupyter-widgets/controls",
      "model_module_version": "1.5.0",
      "model_name": "DescriptionStyleModel",
      "state": {
       "_model_module": "@jupyter-widgets/controls",
       "_model_module_version": "1.5.0",
       "_model_name": "DescriptionStyleModel",
       "_view_count": null,
       "_view_module": "@jupyter-widgets/base",
       "_view_module_version": "1.2.0",
       "_view_name": "StyleView",
       "description_width": ""
      }
     },
     "38d4725aa56b4835884b7b4935d91489": {
      "model_module": "@jupyter-widgets/base",
      "model_module_version": "1.2.0",
      "model_name": "LayoutModel",
      "state": {
       "_model_module": "@jupyter-widgets/base",
       "_model_module_version": "1.2.0",
       "_model_name": "LayoutModel",
       "_view_count": null,
       "_view_module": "@jupyter-widgets/base",
       "_view_module_version": "1.2.0",
       "_view_name": "LayoutView",
       "align_content": null,
       "align_items": null,
       "align_self": null,
       "border": null,
       "bottom": null,
       "display": null,
       "flex": null,
       "flex_flow": null,
       "grid_area": null,
       "grid_auto_columns": null,
       "grid_auto_flow": null,
       "grid_auto_rows": null,
       "grid_column": null,
       "grid_gap": null,
       "grid_row": null,
       "grid_template_areas": null,
       "grid_template_columns": null,
       "grid_template_rows": null,
       "height": null,
       "justify_content": null,
       "justify_items": null,
       "left": null,
       "margin": null,
       "max_height": null,
       "max_width": null,
       "min_height": null,
       "min_width": null,
       "object_fit": null,
       "object_position": null,
       "order": null,
       "overflow": null,
       "overflow_x": null,
       "overflow_y": null,
       "padding": null,
       "right": null,
       "top": null,
       "visibility": null,
       "width": null
      }
     },
     "4d192a91aedc4a6591f9448105449330": {
      "model_module": "@jupyter-widgets/controls",
      "model_module_version": "1.5.0",
      "model_name": "FloatProgressModel",
      "state": {
       "_dom_classes": [],
       "_model_module": "@jupyter-widgets/controls",
       "_model_module_version": "1.5.0",
       "_model_name": "FloatProgressModel",
       "_view_count": null,
       "_view_module": "@jupyter-widgets/controls",
       "_view_module_version": "1.5.0",
       "_view_name": "ProgressView",
       "bar_style": "success",
       "description": "",
       "description_tooltip": null,
       "layout": "IPY_MODEL_10c637fddc874a2ca0d6be857ccf8c59",
       "max": 466062.0,
       "min": 0.0,
       "orientation": "horizontal",
       "style": "IPY_MODEL_7521d949e60b49af9632dfa0f6241630",
       "value": 466062.0
      }
     },
     "4e8317fdef054d7c8fa203aa25605e2f": {
      "model_module": "@jupyter-widgets/controls",
      "model_module_version": "1.5.0",
      "model_name": "FloatProgressModel",
      "state": {
       "_dom_classes": [],
       "_model_module": "@jupyter-widgets/controls",
       "_model_module_version": "1.5.0",
       "_model_name": "FloatProgressModel",
       "_view_count": null,
       "_view_module": "@jupyter-widgets/controls",
       "_view_module_version": "1.5.0",
       "_view_name": "ProgressView",
       "bar_style": "success",
       "description": "",
       "description_tooltip": null,
       "layout": "IPY_MODEL_c65cad53f339447ab35dede29556874a",
       "max": 570.0,
       "min": 0.0,
       "orientation": "horizontal",
       "style": "IPY_MODEL_2c90c1686619491f8e2d734dcc70e613",
       "value": 570.0
      }
     },
     "510aca3418744ffca1c3e58af3f99d81": {
      "model_module": "@jupyter-widgets/base",
      "model_module_version": "1.2.0",
      "model_name": "LayoutModel",
      "state": {
       "_model_module": "@jupyter-widgets/base",
       "_model_module_version": "1.2.0",
       "_model_name": "LayoutModel",
       "_view_count": null,
       "_view_module": "@jupyter-widgets/base",
       "_view_module_version": "1.2.0",
       "_view_name": "LayoutView",
       "align_content": null,
       "align_items": null,
       "align_self": null,
       "border": null,
       "bottom": null,
       "display": null,
       "flex": null,
       "flex_flow": null,
       "grid_area": null,
       "grid_auto_columns": null,
       "grid_auto_flow": null,
       "grid_auto_rows": null,
       "grid_column": null,
       "grid_gap": null,
       "grid_row": null,
       "grid_template_areas": null,
       "grid_template_columns": null,
       "grid_template_rows": null,
       "height": null,
       "justify_content": null,
       "justify_items": null,
       "left": null,
       "margin": null,
       "max_height": null,
       "max_width": null,
       "min_height": null,
       "min_width": null,
       "object_fit": null,
       "object_position": null,
       "order": null,
       "overflow": null,
       "overflow_x": null,
       "overflow_y": null,
       "padding": null,
       "right": null,
       "top": null,
       "visibility": null,
       "width": null
      }
     },
     "59037fa93f4847c5a5975e9db664c69b": {
      "model_module": "@jupyter-widgets/controls",
      "model_module_version": "1.5.0",
      "model_name": "DescriptionStyleModel",
      "state": {
       "_model_module": "@jupyter-widgets/controls",
       "_model_module_version": "1.5.0",
       "_model_name": "DescriptionStyleModel",
       "_view_count": null,
       "_view_module": "@jupyter-widgets/base",
       "_view_module_version": "1.2.0",
       "_view_name": "StyleView",
       "description_width": ""
      }
     },
     "5c925b70428643c69e90d3e9a2fb6ec6": {
      "model_module": "@jupyter-widgets/base",
      "model_module_version": "1.2.0",
      "model_name": "LayoutModel",
      "state": {
       "_model_module": "@jupyter-widgets/base",
       "_model_module_version": "1.2.0",
       "_model_name": "LayoutModel",
       "_view_count": null,
       "_view_module": "@jupyter-widgets/base",
       "_view_module_version": "1.2.0",
       "_view_name": "LayoutView",
       "align_content": null,
       "align_items": null,
       "align_self": null,
       "border": null,
       "bottom": null,
       "display": null,
       "flex": null,
       "flex_flow": null,
       "grid_area": null,
       "grid_auto_columns": null,
       "grid_auto_flow": null,
       "grid_auto_rows": null,
       "grid_column": null,
       "grid_gap": null,
       "grid_row": null,
       "grid_template_areas": null,
       "grid_template_columns": null,
       "grid_template_rows": null,
       "height": null,
       "justify_content": null,
       "justify_items": null,
       "left": null,
       "margin": null,
       "max_height": null,
       "max_width": null,
       "min_height": null,
       "min_width": null,
       "object_fit": null,
       "object_position": null,
       "order": null,
       "overflow": null,
       "overflow_x": null,
       "overflow_y": null,
       "padding": null,
       "right": null,
       "top": null,
       "visibility": null,
       "width": null
      }
     },
     "5dc280a32b5748af9377c24037079901": {
      "model_module": "@jupyter-widgets/base",
      "model_module_version": "1.2.0",
      "model_name": "LayoutModel",
      "state": {
       "_model_module": "@jupyter-widgets/base",
       "_model_module_version": "1.2.0",
       "_model_name": "LayoutModel",
       "_view_count": null,
       "_view_module": "@jupyter-widgets/base",
       "_view_module_version": "1.2.0",
       "_view_name": "LayoutView",
       "align_content": null,
       "align_items": null,
       "align_self": null,
       "border": null,
       "bottom": null,
       "display": null,
       "flex": null,
       "flex_flow": null,
       "grid_area": null,
       "grid_auto_columns": null,
       "grid_auto_flow": null,
       "grid_auto_rows": null,
       "grid_column": null,
       "grid_gap": null,
       "grid_row": null,
       "grid_template_areas": null,
       "grid_template_columns": null,
       "grid_template_rows": null,
       "height": null,
       "justify_content": null,
       "justify_items": null,
       "left": null,
       "margin": null,
       "max_height": null,
       "max_width": null,
       "min_height": null,
       "min_width": null,
       "object_fit": null,
       "object_position": null,
       "order": null,
       "overflow": null,
       "overflow_x": null,
       "overflow_y": null,
       "padding": null,
       "right": null,
       "top": null,
       "visibility": null,
       "width": null
      }
     },
     "61dad62209654b36959dd35f4c468863": {
      "model_module": "@jupyter-widgets/controls",
      "model_module_version": "1.5.0",
      "model_name": "FloatProgressModel",
      "state": {
       "_dom_classes": [],
       "_model_module": "@jupyter-widgets/controls",
       "_model_module_version": "1.5.0",
       "_model_name": "FloatProgressModel",
       "_view_count": null,
       "_view_module": "@jupyter-widgets/controls",
       "_view_module_version": "1.5.0",
       "_view_name": "ProgressView",
       "bar_style": "success",
       "description": "",
       "description_tooltip": null,
       "layout": "IPY_MODEL_049c982f515842db8bf3123ba21017ba",
       "max": 231508.0,
       "min": 0.0,
       "orientation": "horizontal",
       "style": "IPY_MODEL_8f0614f4627b46fb8b069abf6bf8efa6",
       "value": 231508.0
      }
     },
     "6b35c2c6a5034aafb494b6643a0d7a0b": {
      "model_module": "@jupyter-widgets/controls",
      "model_module_version": "1.5.0",
      "model_name": "HBoxModel",
      "state": {
       "_dom_classes": [],
       "_model_module": "@jupyter-widgets/controls",
       "_model_module_version": "1.5.0",
       "_model_name": "HBoxModel",
       "_view_count": null,
       "_view_module": "@jupyter-widgets/controls",
       "_view_module_version": "1.5.0",
       "_view_name": "HBoxView",
       "box_style": "",
       "children": [
        "IPY_MODEL_b0b4e152e875445eb37769bc72b71d2d",
        "IPY_MODEL_de4274264b3b4df99c06efaedd0e794b",
        "IPY_MODEL_8b19d59567f64473b5d2b37f3e380249"
       ],
       "layout": "IPY_MODEL_7653add93a4e4067b1ecc42f7f20be07"
      }
     },
     "7521d949e60b49af9632dfa0f6241630": {
      "model_module": "@jupyter-widgets/controls",
      "model_module_version": "1.5.0",
      "model_name": "ProgressStyleModel",
      "state": {
       "_model_module": "@jupyter-widgets/controls",
       "_model_module_version": "1.5.0",
       "_model_name": "ProgressStyleModel",
       "_view_count": null,
       "_view_module": "@jupyter-widgets/base",
       "_view_module_version": "1.2.0",
       "_view_name": "StyleView",
       "bar_color": null,
       "description_width": ""
      }
     },
     "7653add93a4e4067b1ecc42f7f20be07": {
      "model_module": "@jupyter-widgets/base",
      "model_module_version": "1.2.0",
      "model_name": "LayoutModel",
      "state": {
       "_model_module": "@jupyter-widgets/base",
       "_model_module_version": "1.2.0",
       "_model_name": "LayoutModel",
       "_view_count": null,
       "_view_module": "@jupyter-widgets/base",
       "_view_module_version": "1.2.0",
       "_view_name": "LayoutView",
       "align_content": null,
       "align_items": null,
       "align_self": null,
       "border": null,
       "bottom": null,
       "display": null,
       "flex": null,
       "flex_flow": null,
       "grid_area": null,
       "grid_auto_columns": null,
       "grid_auto_flow": null,
       "grid_auto_rows": null,
       "grid_column": null,
       "grid_gap": null,
       "grid_row": null,
       "grid_template_areas": null,
       "grid_template_columns": null,
       "grid_template_rows": null,
       "height": null,
       "justify_content": null,
       "justify_items": null,
       "left": null,
       "margin": null,
       "max_height": null,
       "max_width": null,
       "min_height": null,
       "min_width": null,
       "object_fit": null,
       "object_position": null,
       "order": null,
       "overflow": null,
       "overflow_x": null,
       "overflow_y": null,
       "padding": null,
       "right": null,
       "top": null,
       "visibility": null,
       "width": null
      }
     },
     "77b2d3e187844d48a659ff32cac160e9": {
      "model_module": "@jupyter-widgets/controls",
      "model_module_version": "1.5.0",
      "model_name": "DescriptionStyleModel",
      "state": {
       "_model_module": "@jupyter-widgets/controls",
       "_model_module_version": "1.5.0",
       "_model_name": "DescriptionStyleModel",
       "_view_count": null,
       "_view_module": "@jupyter-widgets/base",
       "_view_module_version": "1.2.0",
       "_view_name": "StyleView",
       "description_width": ""
      }
     },
     "81c5d5d0ae304b599e2a089b8323a32d": {
      "model_module": "@jupyter-widgets/controls",
      "model_module_version": "1.5.0",
      "model_name": "HTMLModel",
      "state": {
       "_dom_classes": [],
       "_model_module": "@jupyter-widgets/controls",
       "_model_module_version": "1.5.0",
       "_model_name": "HTMLModel",
       "_view_count": null,
       "_view_module": "@jupyter-widgets/controls",
       "_view_module_version": "1.5.0",
       "_view_name": "HTMLView",
       "description": "",
       "description_tooltip": null,
       "layout": "IPY_MODEL_5c925b70428643c69e90d3e9a2fb6ec6",
       "placeholder": "​",
       "style": "IPY_MODEL_d4e2e2abc11548d88a67e5b38e86e437",
       "value": "tokenizer.json: 100%"
      }
     },
     "853efb200f8f49c6ba144920c1fda1fc": {
      "model_module": "@jupyter-widgets/controls",
      "model_module_version": "1.5.0",
      "model_name": "ProgressStyleModel",
      "state": {
       "_model_module": "@jupyter-widgets/controls",
       "_model_module_version": "1.5.0",
       "_model_name": "ProgressStyleModel",
       "_view_count": null,
       "_view_module": "@jupyter-widgets/base",
       "_view_module_version": "1.2.0",
       "_view_name": "StyleView",
       "bar_color": null,
       "description_width": ""
      }
     },
     "891ffdd1ca3446b8a96e316d5a14be58": {
      "model_module": "@jupyter-widgets/base",
      "model_module_version": "1.2.0",
      "model_name": "LayoutModel",
      "state": {
       "_model_module": "@jupyter-widgets/base",
       "_model_module_version": "1.2.0",
       "_model_name": "LayoutModel",
       "_view_count": null,
       "_view_module": "@jupyter-widgets/base",
       "_view_module_version": "1.2.0",
       "_view_name": "LayoutView",
       "align_content": null,
       "align_items": null,
       "align_self": null,
       "border": null,
       "bottom": null,
       "display": null,
       "flex": null,
       "flex_flow": null,
       "grid_area": null,
       "grid_auto_columns": null,
       "grid_auto_flow": null,
       "grid_auto_rows": null,
       "grid_column": null,
       "grid_gap": null,
       "grid_row": null,
       "grid_template_areas": null,
       "grid_template_columns": null,
       "grid_template_rows": null,
       "height": null,
       "justify_content": null,
       "justify_items": null,
       "left": null,
       "margin": null,
       "max_height": null,
       "max_width": null,
       "min_height": null,
       "min_width": null,
       "object_fit": null,
       "object_position": null,
       "order": null,
       "overflow": null,
       "overflow_x": null,
       "overflow_y": null,
       "padding": null,
       "right": null,
       "top": null,
       "visibility": null,
       "width": null
      }
     },
     "8b19d59567f64473b5d2b37f3e380249": {
      "model_module": "@jupyter-widgets/controls",
      "model_module_version": "1.5.0",
      "model_name": "HTMLModel",
      "state": {
       "_dom_classes": [],
       "_model_module": "@jupyter-widgets/controls",
       "_model_module_version": "1.5.0",
       "_model_name": "HTMLModel",
       "_view_count": null,
       "_view_module": "@jupyter-widgets/controls",
       "_view_module_version": "1.5.0",
       "_view_name": "HTMLView",
       "description": "",
       "description_tooltip": null,
       "layout": "IPY_MODEL_8d4e54adbd3449598b46efed218368a9",
       "placeholder": "​",
       "style": "IPY_MODEL_d0e120d2269f4b1dbdefe41ba0a56214",
       "value": " 48.0/48.0 [00:00&lt;00:00, 4.10kB/s]"
      }
     },
     "8d4e54adbd3449598b46efed218368a9": {
      "model_module": "@jupyter-widgets/base",
      "model_module_version": "1.2.0",
      "model_name": "LayoutModel",
      "state": {
       "_model_module": "@jupyter-widgets/base",
       "_model_module_version": "1.2.0",
       "_model_name": "LayoutModel",
       "_view_count": null,
       "_view_module": "@jupyter-widgets/base",
       "_view_module_version": "1.2.0",
       "_view_name": "LayoutView",
       "align_content": null,
       "align_items": null,
       "align_self": null,
       "border": null,
       "bottom": null,
       "display": null,
       "flex": null,
       "flex_flow": null,
       "grid_area": null,
       "grid_auto_columns": null,
       "grid_auto_flow": null,
       "grid_auto_rows": null,
       "grid_column": null,
       "grid_gap": null,
       "grid_row": null,
       "grid_template_areas": null,
       "grid_template_columns": null,
       "grid_template_rows": null,
       "height": null,
       "justify_content": null,
       "justify_items": null,
       "left": null,
       "margin": null,
       "max_height": null,
       "max_width": null,
       "min_height": null,
       "min_width": null,
       "object_fit": null,
       "object_position": null,
       "order": null,
       "overflow": null,
       "overflow_x": null,
       "overflow_y": null,
       "padding": null,
       "right": null,
       "top": null,
       "visibility": null,
       "width": null
      }
     },
     "8f0614f4627b46fb8b069abf6bf8efa6": {
      "model_module": "@jupyter-widgets/controls",
      "model_module_version": "1.5.0",
      "model_name": "ProgressStyleModel",
      "state": {
       "_model_module": "@jupyter-widgets/controls",
       "_model_module_version": "1.5.0",
       "_model_name": "ProgressStyleModel",
       "_view_count": null,
       "_view_module": "@jupyter-widgets/base",
       "_view_module_version": "1.2.0",
       "_view_name": "StyleView",
       "bar_color": null,
       "description_width": ""
      }
     },
     "95f6f4ccc08d4886bc61599d7e059ee0": {
      "model_module": "@jupyter-widgets/base",
      "model_module_version": "1.2.0",
      "model_name": "LayoutModel",
      "state": {
       "_model_module": "@jupyter-widgets/base",
       "_model_module_version": "1.2.0",
       "_model_name": "LayoutModel",
       "_view_count": null,
       "_view_module": "@jupyter-widgets/base",
       "_view_module_version": "1.2.0",
       "_view_name": "LayoutView",
       "align_content": null,
       "align_items": null,
       "align_self": null,
       "border": null,
       "bottom": null,
       "display": null,
       "flex": null,
       "flex_flow": null,
       "grid_area": null,
       "grid_auto_columns": null,
       "grid_auto_flow": null,
       "grid_auto_rows": null,
       "grid_column": null,
       "grid_gap": null,
       "grid_row": null,
       "grid_template_areas": null,
       "grid_template_columns": null,
       "grid_template_rows": null,
       "height": null,
       "justify_content": null,
       "justify_items": null,
       "left": null,
       "margin": null,
       "max_height": null,
       "max_width": null,
       "min_height": null,
       "min_width": null,
       "object_fit": null,
       "object_position": null,
       "order": null,
       "overflow": null,
       "overflow_x": null,
       "overflow_y": null,
       "padding": null,
       "right": null,
       "top": null,
       "visibility": null,
       "width": null
      }
     },
     "975392d0ba384708b76e923d2b3f2b66": {
      "model_module": "@jupyter-widgets/base",
      "model_module_version": "1.2.0",
      "model_name": "LayoutModel",
      "state": {
       "_model_module": "@jupyter-widgets/base",
       "_model_module_version": "1.2.0",
       "_model_name": "LayoutModel",
       "_view_count": null,
       "_view_module": "@jupyter-widgets/base",
       "_view_module_version": "1.2.0",
       "_view_name": "LayoutView",
       "align_content": null,
       "align_items": null,
       "align_self": null,
       "border": null,
       "bottom": null,
       "display": null,
       "flex": null,
       "flex_flow": null,
       "grid_area": null,
       "grid_auto_columns": null,
       "grid_auto_flow": null,
       "grid_auto_rows": null,
       "grid_column": null,
       "grid_gap": null,
       "grid_row": null,
       "grid_template_areas": null,
       "grid_template_columns": null,
       "grid_template_rows": null,
       "height": null,
       "justify_content": null,
       "justify_items": null,
       "left": null,
       "margin": null,
       "max_height": null,
       "max_width": null,
       "min_height": null,
       "min_width": null,
       "object_fit": null,
       "object_position": null,
       "order": null,
       "overflow": null,
       "overflow_x": null,
       "overflow_y": null,
       "padding": null,
       "right": null,
       "top": null,
       "visibility": null,
       "width": null
      }
     },
     "9f6b7d3d6e234a86a634efce502c61ea": {
      "model_module": "@jupyter-widgets/controls",
      "model_module_version": "1.5.0",
      "model_name": "DescriptionStyleModel",
      "state": {
       "_model_module": "@jupyter-widgets/controls",
       "_model_module_version": "1.5.0",
       "_model_name": "DescriptionStyleModel",
       "_view_count": null,
       "_view_module": "@jupyter-widgets/base",
       "_view_module_version": "1.2.0",
       "_view_name": "StyleView",
       "description_width": ""
      }
     },
     "b0b4e152e875445eb37769bc72b71d2d": {
      "model_module": "@jupyter-widgets/controls",
      "model_module_version": "1.5.0",
      "model_name": "HTMLModel",
      "state": {
       "_dom_classes": [],
       "_model_module": "@jupyter-widgets/controls",
       "_model_module_version": "1.5.0",
       "_model_name": "HTMLModel",
       "_view_count": null,
       "_view_module": "@jupyter-widgets/controls",
       "_view_module_version": "1.5.0",
       "_view_name": "HTMLView",
       "description": "",
       "description_tooltip": null,
       "layout": "IPY_MODEL_891ffdd1ca3446b8a96e316d5a14be58",
       "placeholder": "​",
       "style": "IPY_MODEL_59037fa93f4847c5a5975e9db664c69b",
       "value": "tokenizer_config.json: 100%"
      }
     },
     "b1441200415b476cbe455823a5cfede1": {
      "model_module": "@jupyter-widgets/controls",
      "model_module_version": "1.5.0",
      "model_name": "DescriptionStyleModel",
      "state": {
       "_model_module": "@jupyter-widgets/controls",
       "_model_module_version": "1.5.0",
       "_model_name": "DescriptionStyleModel",
       "_view_count": null,
       "_view_module": "@jupyter-widgets/base",
       "_view_module_version": "1.2.0",
       "_view_name": "StyleView",
       "description_width": ""
      }
     },
     "b17616c3db4a4c80b68e633b60c98e7b": {
      "model_module": "@jupyter-widgets/controls",
      "model_module_version": "1.5.0",
      "model_name": "DescriptionStyleModel",
      "state": {
       "_model_module": "@jupyter-widgets/controls",
       "_model_module_version": "1.5.0",
       "_model_name": "DescriptionStyleModel",
       "_view_count": null,
       "_view_module": "@jupyter-widgets/base",
       "_view_module_version": "1.2.0",
       "_view_name": "StyleView",
       "description_width": ""
      }
     },
     "bd72c9fa53ab4f50bdbf68d69c3ff042": {
      "model_module": "@jupyter-widgets/controls",
      "model_module_version": "1.5.0",
      "model_name": "ProgressStyleModel",
      "state": {
       "_model_module": "@jupyter-widgets/controls",
       "_model_module_version": "1.5.0",
       "_model_name": "ProgressStyleModel",
       "_view_count": null,
       "_view_module": "@jupyter-widgets/base",
       "_view_module_version": "1.2.0",
       "_view_name": "StyleView",
       "bar_color": null,
       "description_width": ""
      }
     },
     "bf3eeef4c44e4c01b01117630b4149c0": {
      "model_module": "@jupyter-widgets/base",
      "model_module_version": "1.2.0",
      "model_name": "LayoutModel",
      "state": {
       "_model_module": "@jupyter-widgets/base",
       "_model_module_version": "1.2.0",
       "_model_name": "LayoutModel",
       "_view_count": null,
       "_view_module": "@jupyter-widgets/base",
       "_view_module_version": "1.2.0",
       "_view_name": "LayoutView",
       "align_content": null,
       "align_items": null,
       "align_self": null,
       "border": null,
       "bottom": null,
       "display": null,
       "flex": null,
       "flex_flow": null,
       "grid_area": null,
       "grid_auto_columns": null,
       "grid_auto_flow": null,
       "grid_auto_rows": null,
       "grid_column": null,
       "grid_gap": null,
       "grid_row": null,
       "grid_template_areas": null,
       "grid_template_columns": null,
       "grid_template_rows": null,
       "height": null,
       "justify_content": null,
       "justify_items": null,
       "left": null,
       "margin": null,
       "max_height": null,
       "max_width": null,
       "min_height": null,
       "min_width": null,
       "object_fit": null,
       "object_position": null,
       "order": null,
       "overflow": null,
       "overflow_x": null,
       "overflow_y": null,
       "padding": null,
       "right": null,
       "top": null,
       "visibility": null,
       "width": null
      }
     },
     "c01434b9117d4ef7a2278552a5ee285f": {
      "model_module": "@jupyter-widgets/controls",
      "model_module_version": "1.5.0",
      "model_name": "HBoxModel",
      "state": {
       "_dom_classes": [],
       "_model_module": "@jupyter-widgets/controls",
       "_model_module_version": "1.5.0",
       "_model_name": "HBoxModel",
       "_view_count": null,
       "_view_module": "@jupyter-widgets/controls",
       "_view_module_version": "1.5.0",
       "_view_name": "HBoxView",
       "box_style": "",
       "children": [
        "IPY_MODEL_f73c2607620a4bfea09b00f7ba677c38",
        "IPY_MODEL_61dad62209654b36959dd35f4c468863",
        "IPY_MODEL_d7870c8cca0845a18b052eb0989058d6"
       ],
       "layout": "IPY_MODEL_975392d0ba384708b76e923d2b3f2b66"
      }
     },
     "c65cad53f339447ab35dede29556874a": {
      "model_module": "@jupyter-widgets/base",
      "model_module_version": "1.2.0",
      "model_name": "LayoutModel",
      "state": {
       "_model_module": "@jupyter-widgets/base",
       "_model_module_version": "1.2.0",
       "_model_name": "LayoutModel",
       "_view_count": null,
       "_view_module": "@jupyter-widgets/base",
       "_view_module_version": "1.2.0",
       "_view_name": "LayoutView",
       "align_content": null,
       "align_items": null,
       "align_self": null,
       "border": null,
       "bottom": null,
       "display": null,
       "flex": null,
       "flex_flow": null,
       "grid_area": null,
       "grid_auto_columns": null,
       "grid_auto_flow": null,
       "grid_auto_rows": null,
       "grid_column": null,
       "grid_gap": null,
       "grid_row": null,
       "grid_template_areas": null,
       "grid_template_columns": null,
       "grid_template_rows": null,
       "height": null,
       "justify_content": null,
       "justify_items": null,
       "left": null,
       "margin": null,
       "max_height": null,
       "max_width": null,
       "min_height": null,
       "min_width": null,
       "object_fit": null,
       "object_position": null,
       "order": null,
       "overflow": null,
       "overflow_x": null,
       "overflow_y": null,
       "padding": null,
       "right": null,
       "top": null,
       "visibility": null,
       "width": null
      }
     },
     "c81133a52cdf44e2815e016e13d6d793": {
      "model_module": "@jupyter-widgets/base",
      "model_module_version": "1.2.0",
      "model_name": "LayoutModel",
      "state": {
       "_model_module": "@jupyter-widgets/base",
       "_model_module_version": "1.2.0",
       "_model_name": "LayoutModel",
       "_view_count": null,
       "_view_module": "@jupyter-widgets/base",
       "_view_module_version": "1.2.0",
       "_view_name": "LayoutView",
       "align_content": null,
       "align_items": null,
       "align_self": null,
       "border": null,
       "bottom": null,
       "display": null,
       "flex": null,
       "flex_flow": null,
       "grid_area": null,
       "grid_auto_columns": null,
       "grid_auto_flow": null,
       "grid_auto_rows": null,
       "grid_column": null,
       "grid_gap": null,
       "grid_row": null,
       "grid_template_areas": null,
       "grid_template_columns": null,
       "grid_template_rows": null,
       "height": null,
       "justify_content": null,
       "justify_items": null,
       "left": null,
       "margin": null,
       "max_height": null,
       "max_width": null,
       "min_height": null,
       "min_width": null,
       "object_fit": null,
       "object_position": null,
       "order": null,
       "overflow": null,
       "overflow_x": null,
       "overflow_y": null,
       "padding": null,
       "right": null,
       "top": null,
       "visibility": null,
       "width": null
      }
     },
     "cb87e24dbd2b4122b9964f2a1b499c80": {
      "model_module": "@jupyter-widgets/base",
      "model_module_version": "1.2.0",
      "model_name": "LayoutModel",
      "state": {
       "_model_module": "@jupyter-widgets/base",
       "_model_module_version": "1.2.0",
       "_model_name": "LayoutModel",
       "_view_count": null,
       "_view_module": "@jupyter-widgets/base",
       "_view_module_version": "1.2.0",
       "_view_name": "LayoutView",
       "align_content": null,
       "align_items": null,
       "align_self": null,
       "border": null,
       "bottom": null,
       "display": null,
       "flex": null,
       "flex_flow": null,
       "grid_area": null,
       "grid_auto_columns": null,
       "grid_auto_flow": null,
       "grid_auto_rows": null,
       "grid_column": null,
       "grid_gap": null,
       "grid_row": null,
       "grid_template_areas": null,
       "grid_template_columns": null,
       "grid_template_rows": null,
       "height": null,
       "justify_content": null,
       "justify_items": null,
       "left": null,
       "margin": null,
       "max_height": null,
       "max_width": null,
       "min_height": null,
       "min_width": null,
       "object_fit": null,
       "object_position": null,
       "order": null,
       "overflow": null,
       "overflow_x": null,
       "overflow_y": null,
       "padding": null,
       "right": null,
       "top": null,
       "visibility": null,
       "width": null
      }
     },
     "d0b8914ba24c4fa58c1fbda0ef8878f6": {
      "model_module": "@jupyter-widgets/controls",
      "model_module_version": "1.5.0",
      "model_name": "HBoxModel",
      "state": {
       "_dom_classes": [],
       "_model_module": "@jupyter-widgets/controls",
       "_model_module_version": "1.5.0",
       "_model_name": "HBoxModel",
       "_view_count": null,
       "_view_module": "@jupyter-widgets/controls",
       "_view_module_version": "1.5.0",
       "_view_name": "HBoxView",
       "box_style": "",
       "children": [
        "IPY_MODEL_e420280700444aae996b74c2f1e25e4d",
        "IPY_MODEL_4e8317fdef054d7c8fa203aa25605e2f",
        "IPY_MODEL_277670ad90464233bce4e3bd41e6cf40"
       ],
       "layout": "IPY_MODEL_510aca3418744ffca1c3e58af3f99d81"
      }
     },
     "d0e120d2269f4b1dbdefe41ba0a56214": {
      "model_module": "@jupyter-widgets/controls",
      "model_module_version": "1.5.0",
      "model_name": "DescriptionStyleModel",
      "state": {
       "_model_module": "@jupyter-widgets/controls",
       "_model_module_version": "1.5.0",
       "_model_name": "DescriptionStyleModel",
       "_view_count": null,
       "_view_module": "@jupyter-widgets/base",
       "_view_module_version": "1.2.0",
       "_view_name": "StyleView",
       "description_width": ""
      }
     },
     "d4e2e2abc11548d88a67e5b38e86e437": {
      "model_module": "@jupyter-widgets/controls",
      "model_module_version": "1.5.0",
      "model_name": "DescriptionStyleModel",
      "state": {
       "_model_module": "@jupyter-widgets/controls",
       "_model_module_version": "1.5.0",
       "_model_name": "DescriptionStyleModel",
       "_view_count": null,
       "_view_module": "@jupyter-widgets/base",
       "_view_module_version": "1.2.0",
       "_view_name": "StyleView",
       "description_width": ""
      }
     },
     "d7870c8cca0845a18b052eb0989058d6": {
      "model_module": "@jupyter-widgets/controls",
      "model_module_version": "1.5.0",
      "model_name": "HTMLModel",
      "state": {
       "_dom_classes": [],
       "_model_module": "@jupyter-widgets/controls",
       "_model_module_version": "1.5.0",
       "_model_name": "HTMLModel",
       "_view_count": null,
       "_view_module": "@jupyter-widgets/controls",
       "_view_module_version": "1.5.0",
       "_view_name": "HTMLView",
       "description": "",
       "description_tooltip": null,
       "layout": "IPY_MODEL_95f6f4ccc08d4886bc61599d7e059ee0",
       "placeholder": "​",
       "style": "IPY_MODEL_2137e5d2025a4c9aa05a41f386801fa9",
       "value": " 232k/232k [00:00&lt;00:00, 4.74MB/s]"
      }
     },
     "db70187a39d74bd49e020582e0c996a7": {
      "model_module": "@jupyter-widgets/controls",
      "model_module_version": "1.5.0",
      "model_name": "HTMLModel",
      "state": {
       "_dom_classes": [],
       "_model_module": "@jupyter-widgets/controls",
       "_model_module_version": "1.5.0",
       "_model_name": "HTMLModel",
       "_view_count": null,
       "_view_module": "@jupyter-widgets/controls",
       "_view_module_version": "1.5.0",
       "_view_name": "HTMLView",
       "description": "",
       "description_tooltip": null,
       "layout": "IPY_MODEL_bf3eeef4c44e4c01b01117630b4149c0",
       "placeholder": "​",
       "style": "IPY_MODEL_b1441200415b476cbe455823a5cfede1",
       "value": " 440M/440M [00:02&lt;00:00, 205MB/s]"
      }
     },
     "de4274264b3b4df99c06efaedd0e794b": {
      "model_module": "@jupyter-widgets/controls",
      "model_module_version": "1.5.0",
      "model_name": "FloatProgressModel",
      "state": {
       "_dom_classes": [],
       "_model_module": "@jupyter-widgets/controls",
       "_model_module_version": "1.5.0",
       "_model_name": "FloatProgressModel",
       "_view_count": null,
       "_view_module": "@jupyter-widgets/controls",
       "_view_module_version": "1.5.0",
       "_view_name": "ProgressView",
       "bar_style": "success",
       "description": "",
       "description_tooltip": null,
       "layout": "IPY_MODEL_22fec004b00748048878dfa1cbb97836",
       "max": 48.0,
       "min": 0.0,
       "orientation": "horizontal",
       "style": "IPY_MODEL_bd72c9fa53ab4f50bdbf68d69c3ff042",
       "value": 48.0
      }
     },
     "e420280700444aae996b74c2f1e25e4d": {
      "model_module": "@jupyter-widgets/controls",
      "model_module_version": "1.5.0",
      "model_name": "HTMLModel",
      "state": {
       "_dom_classes": [],
       "_model_module": "@jupyter-widgets/controls",
       "_model_module_version": "1.5.0",
       "_model_name": "HTMLModel",
       "_view_count": null,
       "_view_module": "@jupyter-widgets/controls",
       "_view_module_version": "1.5.0",
       "_view_name": "HTMLView",
       "description": "",
       "description_tooltip": null,
       "layout": "IPY_MODEL_2b25037108214b3ca15ce2b11df4f3f9",
       "placeholder": "​",
       "style": "IPY_MODEL_b17616c3db4a4c80b68e633b60c98e7b",
       "value": "config.json: 100%"
      }
     },
     "ed445f88b47e42b0ab26a93716dcf59f": {
      "model_module": "@jupyter-widgets/base",
      "model_module_version": "1.2.0",
      "model_name": "LayoutModel",
      "state": {
       "_model_module": "@jupyter-widgets/base",
       "_model_module_version": "1.2.0",
       "_model_name": "LayoutModel",
       "_view_count": null,
       "_view_module": "@jupyter-widgets/base",
       "_view_module_version": "1.2.0",
       "_view_name": "LayoutView",
       "align_content": null,
       "align_items": null,
       "align_self": null,
       "border": null,
       "bottom": null,
       "display": null,
       "flex": null,
       "flex_flow": null,
       "grid_area": null,
       "grid_auto_columns": null,
       "grid_auto_flow": null,
       "grid_auto_rows": null,
       "grid_column": null,
       "grid_gap": null,
       "grid_row": null,
       "grid_template_areas": null,
       "grid_template_columns": null,
       "grid_template_rows": null,
       "height": null,
       "justify_content": null,
       "justify_items": null,
       "left": null,
       "margin": null,
       "max_height": null,
       "max_width": null,
       "min_height": null,
       "min_width": null,
       "object_fit": null,
       "object_position": null,
       "order": null,
       "overflow": null,
       "overflow_x": null,
       "overflow_y": null,
       "padding": null,
       "right": null,
       "top": null,
       "visibility": null,
       "width": null
      }
     },
     "ee2b7cc6df324767be9f2df670ddeb6b": {
      "model_module": "@jupyter-widgets/controls",
      "model_module_version": "1.5.0",
      "model_name": "HTMLModel",
      "state": {
       "_dom_classes": [],
       "_model_module": "@jupyter-widgets/controls",
       "_model_module_version": "1.5.0",
       "_model_name": "HTMLModel",
       "_view_count": null,
       "_view_module": "@jupyter-widgets/controls",
       "_view_module_version": "1.5.0",
       "_view_name": "HTMLView",
       "description": "",
       "description_tooltip": null,
       "layout": "IPY_MODEL_38d4725aa56b4835884b7b4935d91489",
       "placeholder": "​",
       "style": "IPY_MODEL_36c06af3056f4b4dbaffe9b50e8fc23a",
       "value": "model.safetensors: 100%"
      }
     },
     "efef839c7d8245548c1fa950357c8f6f": {
      "model_module": "@jupyter-widgets/base",
      "model_module_version": "1.2.0",
      "model_name": "LayoutModel",
      "state": {
       "_model_module": "@jupyter-widgets/base",
       "_model_module_version": "1.2.0",
       "_model_name": "LayoutModel",
       "_view_count": null,
       "_view_module": "@jupyter-widgets/base",
       "_view_module_version": "1.2.0",
       "_view_name": "LayoutView",
       "align_content": null,
       "align_items": null,
       "align_self": null,
       "border": null,
       "bottom": null,
       "display": null,
       "flex": null,
       "flex_flow": null,
       "grid_area": null,
       "grid_auto_columns": null,
       "grid_auto_flow": null,
       "grid_auto_rows": null,
       "grid_column": null,
       "grid_gap": null,
       "grid_row": null,
       "grid_template_areas": null,
       "grid_template_columns": null,
       "grid_template_rows": null,
       "height": null,
       "justify_content": null,
       "justify_items": null,
       "left": null,
       "margin": null,
       "max_height": null,
       "max_width": null,
       "min_height": null,
       "min_width": null,
       "object_fit": null,
       "object_position": null,
       "order": null,
       "overflow": null,
       "overflow_x": null,
       "overflow_y": null,
       "padding": null,
       "right": null,
       "top": null,
       "visibility": null,
       "width": null
      }
     },
     "f73c2607620a4bfea09b00f7ba677c38": {
      "model_module": "@jupyter-widgets/controls",
      "model_module_version": "1.5.0",
      "model_name": "HTMLModel",
      "state": {
       "_dom_classes": [],
       "_model_module": "@jupyter-widgets/controls",
       "_model_module_version": "1.5.0",
       "_model_name": "HTMLModel",
       "_view_count": null,
       "_view_module": "@jupyter-widgets/controls",
       "_view_module_version": "1.5.0",
       "_view_name": "HTMLView",
       "description": "",
       "description_tooltip": null,
       "layout": "IPY_MODEL_efef839c7d8245548c1fa950357c8f6f",
       "placeholder": "​",
       "style": "IPY_MODEL_1c576144bbe249b8a14cbce526bd2451",
       "value": "vocab.txt: 100%"
      }
     }
    },
    "version_major": 2,
    "version_minor": 0
   }
  }
 },
 "nbformat": 4,
 "nbformat_minor": 5
}
